{
 "cells": [
  {
   "cell_type": "code",
   "execution_count": 3,
   "metadata": {},
   "outputs": [],
   "source": [
    "import pandas as pd"
   ]
  },
  {
   "cell_type": "code",
   "execution_count": 12,
   "metadata": {},
   "outputs": [],
   "source": [
    "catalog_path = '../data/catalog.csv'\n",
    "meta_path = '../data/ebook_metadata.csv'"
   ]
  },
  {
   "cell_type": "code",
   "execution_count": 13,
   "metadata": {},
   "outputs": [],
   "source": [
    "catalog_df = pd.read_csv(catalog_path)\n",
    "meta_df = pd.read_csv(meta_path)"
   ]
  },
  {
   "cell_type": "code",
   "execution_count": 17,
   "metadata": {},
   "outputs": [
    {
     "data": {
      "text/html": [
       "<div>\n",
       "<style scoped>\n",
       "    .dataframe tbody tr th:only-of-type {\n",
       "        vertical-align: middle;\n",
       "    }\n",
       "\n",
       "    .dataframe tbody tr th {\n",
       "        vertical-align: top;\n",
       "    }\n",
       "\n",
       "    .dataframe thead th {\n",
       "        text-align: right;\n",
       "    }\n",
       "</style>\n",
       "<table border=\"1\" class=\"dataframe\">\n",
       "  <thead>\n",
       "    <tr style=\"text-align: right;\">\n",
       "      <th></th>\n",
       "      <th>ID</th>\n",
       "      <th>Book Title</th>\n",
       "      <th>Book Author</th>\n",
       "      <th>Layers</th>\n",
       "    </tr>\n",
       "  </thead>\n",
       "  <tbody>\n",
       "    <tr>\n",
       "      <th>0</th>\n",
       "      <td>W1OP000001</td>\n",
       "      <td>༄༅། །བྱང་ཆུབ་སེམས་དཔའི་སྤྱོད་པ་ལ་འཇུག་པ་ཞེས་བྱ...</td>\n",
       "      <td>ཞི་བ་ལྷ།</td>\n",
       "      <td>title_yigchung</td>\n",
       "    </tr>\n",
       "    <tr>\n",
       "      <th>1</th>\n",
       "      <td>W1OP000002</td>\n",
       "      <td>༄༅། །རྒྱལ་བའི་སྲས་ཀྱི་ལག་ལེན་སོ་བདུན་མའི་འགྲེལ...</td>\n",
       "      <td>རྒྱལ་སྲས་ཐོགས་མེད།</td>\n",
       "      <td>title_yigchung_tsawa</td>\n",
       "    </tr>\n",
       "    <tr>\n",
       "      <th>2</th>\n",
       "      <td>W1OP000003</td>\n",
       "      <td>༈ ཕན་ཡོན་ཕྱོགས་སྒྲིག་འདོད་འཇོའི་བུམ་བཟང་བཞུགས་སོ།</td>\n",
       "      <td>མཁས་གྲུབ་ཀརྨ་ཆགས་མེད། གཏེར་ཆེན་ཀརྨ་གླིང་པ།</td>\n",
       "      <td>title_quotes_yigchung_tsawa_sapche</td>\n",
       "    </tr>\n",
       "    <tr>\n",
       "      <th>3</th>\n",
       "      <td>W1OP000004</td>\n",
       "      <td>༄༅། །སྒྲོལ་མའི་འགྲེལ་པ་ཕྱོགས་སྒྲིག་མེ་ཏོག་ཨུཏྤ...</td>\n",
       "      <td>༧སྐྱབས་རྗེ་གྲུབ་དབང་སངས་རྒྱས་མཉན་པ་རིན་པོ་ཆེ།</td>\n",
       "      <td>title_quotes_yigchung_tsawa_sapche</td>\n",
       "    </tr>\n",
       "    <tr>\n",
       "      <th>4</th>\n",
       "      <td>W1OP000005</td>\n",
       "      <td>བློ་སྦྱོང་མཚོན་ཆ་འཁོར་ལོའི་འགྲེལ་པ་འགལ་རྐྱེན་ལ...</td>\n",
       "      <td>།བླ་མ་དྷརྨ་རཀྵི་ཏ།</td>\n",
       "      <td>title_yigchung_tsawa</td>\n",
       "    </tr>\n",
       "  </tbody>\n",
       "</table>\n",
       "</div>"
      ],
      "text/plain": [
       "           ID                                         Book Title  \\\n",
       "0  W1OP000001  ༄༅། །བྱང་ཆུབ་སེམས་དཔའི་སྤྱོད་པ་ལ་འཇུག་པ་ཞེས་བྱ...   \n",
       "1  W1OP000002  ༄༅། །རྒྱལ་བའི་སྲས་ཀྱི་ལག་ལེན་སོ་བདུན་མའི་འགྲེལ...   \n",
       "2  W1OP000003  ༈ ཕན་ཡོན་ཕྱོགས་སྒྲིག་འདོད་འཇོའི་བུམ་བཟང་བཞུགས་སོ།   \n",
       "3  W1OP000004  ༄༅། །སྒྲོལ་མའི་འགྲེལ་པ་ཕྱོགས་སྒྲིག་མེ་ཏོག་ཨུཏྤ...   \n",
       "4  W1OP000005  བློ་སྦྱོང་མཚོན་ཆ་འཁོར་ལོའི་འགྲེལ་པ་འགལ་རྐྱེན་ལ...   \n",
       "\n",
       "                                     Book Author  \\\n",
       "0                                       ཞི་བ་ལྷ།   \n",
       "1                             རྒྱལ་སྲས་ཐོགས་མེད།   \n",
       "2     མཁས་གྲུབ་ཀརྨ་ཆགས་མེད། གཏེར་ཆེན་ཀརྨ་གླིང་པ།   \n",
       "3  ༧སྐྱབས་རྗེ་གྲུབ་དབང་སངས་རྒྱས་མཉན་པ་རིན་པོ་ཆེ།   \n",
       "4                             །བླ་མ་དྷརྨ་རཀྵི་ཏ།   \n",
       "\n",
       "                               Layers  \n",
       "0                      title_yigchung  \n",
       "1                title_yigchung_tsawa  \n",
       "2  title_quotes_yigchung_tsawa_sapche  \n",
       "3  title_quotes_yigchung_tsawa_sapche  \n",
       "4                title_yigchung_tsawa  "
      ]
     },
     "execution_count": 17,
     "metadata": {},
     "output_type": "execute_result"
    }
   ],
   "source": [
    "catalog_df.head()"
   ]
  },
  {
   "cell_type": "code",
   "execution_count": 19,
   "metadata": {},
   "outputs": [
    {
     "data": {
      "text/html": [
       "<div>\n",
       "<style scoped>\n",
       "    .dataframe tbody tr th:only-of-type {\n",
       "        vertical-align: middle;\n",
       "    }\n",
       "\n",
       "    .dataframe tbody tr th {\n",
       "        vertical-align: top;\n",
       "    }\n",
       "\n",
       "    .dataframe thead th {\n",
       "        text-align: right;\n",
       "    }\n",
       "</style>\n",
       "<table border=\"1\" class=\"dataframe\">\n",
       "  <thead>\n",
       "    <tr style=\"text-align: right;\">\n",
       "      <th></th>\n",
       "      <th>ID</th>\n",
       "      <th>Book Title</th>\n",
       "      <th>Vol Number</th>\n",
       "      <th>Book Author</th>\n",
       "      <th>Filename</th>\n",
       "    </tr>\n",
       "  </thead>\n",
       "  <tbody>\n",
       "    <tr>\n",
       "      <th>0</th>\n",
       "      <td>W1OP000001</td>\n",
       "      <td>༄༅། །བྱང་ཆུབ་སེམས་དཔའི་སྤྱོད་པ་ལ་འཇུག་པ་ཞེས་བྱ...</td>\n",
       "      <td>NaN</td>\n",
       "      <td>ཞི་བ་ལྷ།</td>\n",
       "      <td>LEK-PHI-004</td>\n",
       "    </tr>\n",
       "    <tr>\n",
       "      <th>1</th>\n",
       "      <td>W1OP000002</td>\n",
       "      <td>༄༅། །རྒྱལ་བའི་སྲས་ཀྱི་ལག་ལེན་སོ་བདུན་མའི་འགྲེལ...</td>\n",
       "      <td>NaN</td>\n",
       "      <td>རྒྱལ་སྲས་ཐོགས་མེད།</td>\n",
       "      <td>BEN-LB-002</td>\n",
       "    </tr>\n",
       "    <tr>\n",
       "      <th>2</th>\n",
       "      <td>W1OP000003</td>\n",
       "      <td>༈ ཕན་ཡོན་ཕྱོགས་སྒྲིག་འདོད་འཇོའི་བུམ་བཟང་བཞུགས་སོ།</td>\n",
       "      <td>NaN</td>\n",
       "      <td>མཁས་གྲུབ་ཀརྨ་ཆགས་མེད། གཏེར་ཆེན་ཀརྨ་གླིང་པ།</td>\n",
       "      <td>BEN-LB-005</td>\n",
       "    </tr>\n",
       "    <tr>\n",
       "      <th>3</th>\n",
       "      <td>W1OP000004</td>\n",
       "      <td>༄༅། །སྒྲོལ་མའི་འགྲེལ་པ་ཕྱོགས་སྒྲིག་མེ་ཏོག་ཨུཏྤ...</td>\n",
       "      <td>NaN</td>\n",
       "      <td>༧སྐྱབས་རྗེ་གྲུབ་དབང་སངས་རྒྱས་མཉན་པ་རིན་པོ་ཆེ།</td>\n",
       "      <td>BEN-LB-007</td>\n",
       "    </tr>\n",
       "    <tr>\n",
       "      <th>4</th>\n",
       "      <td>W1OP000005</td>\n",
       "      <td>བློ་སྦྱོང་མཚོན་ཆ་འཁོར་ལོའི་འགྲེལ་པ་འགལ་རྐྱེན་ལ...</td>\n",
       "      <td>NaN</td>\n",
       "      <td>།བླ་མ་དྷརྨ་རཀྵི་ཏ།</td>\n",
       "      <td>BEN-LB-009</td>\n",
       "    </tr>\n",
       "  </tbody>\n",
       "</table>\n",
       "</div>"
      ],
      "text/plain": [
       "           ID                                         Book Title Vol Number  \\\n",
       "0  W1OP000001  ༄༅། །བྱང་ཆུབ་སེམས་དཔའི་སྤྱོད་པ་ལ་འཇུག་པ་ཞེས་བྱ...        NaN   \n",
       "1  W1OP000002  ༄༅། །རྒྱལ་བའི་སྲས་ཀྱི་ལག་ལེན་སོ་བདུན་མའི་འགྲེལ...        NaN   \n",
       "2  W1OP000003  ༈ ཕན་ཡོན་ཕྱོགས་སྒྲིག་འདོད་འཇོའི་བུམ་བཟང་བཞུགས་སོ།        NaN   \n",
       "3  W1OP000004  ༄༅། །སྒྲོལ་མའི་འགྲེལ་པ་ཕྱོགས་སྒྲིག་མེ་ཏོག་ཨུཏྤ...        NaN   \n",
       "4  W1OP000005  བློ་སྦྱོང་མཚོན་ཆ་འཁོར་ལོའི་འགྲེལ་པ་འགལ་རྐྱེན་ལ...        NaN   \n",
       "\n",
       "                                     Book Author     Filename  \n",
       "0                                       ཞི་བ་ལྷ།  LEK-PHI-004  \n",
       "1                             རྒྱལ་སྲས་ཐོགས་མེད།   BEN-LB-002  \n",
       "2     མཁས་གྲུབ་ཀརྨ་ཆགས་མེད། གཏེར་ཆེན་ཀརྨ་གླིང་པ།   BEN-LB-005  \n",
       "3  ༧སྐྱབས་རྗེ་གྲུབ་དབང་སངས་རྒྱས་མཉན་པ་རིན་པོ་ཆེ།   BEN-LB-007  \n",
       "4                             །བླ་མ་དྷརྨ་རཀྵི་ཏ།   BEN-LB-009  "
      ]
     },
     "execution_count": 19,
     "metadata": {},
     "output_type": "execute_result"
    }
   ],
   "source": [
    "meta_df.head()"
   ]
  },
  {
   "cell_type": "code",
   "execution_count": 29,
   "metadata": {},
   "outputs": [],
   "source": [
    "layer_df = pd.concat([catalog_df[['ID', 'Layers']], meta_df[['Filename']]], axis=1)"
   ]
  },
  {
   "cell_type": "code",
   "execution_count": 30,
   "metadata": {},
   "outputs": [
    {
     "data": {
      "text/html": [
       "<div>\n",
       "<style scoped>\n",
       "    .dataframe tbody tr th:only-of-type {\n",
       "        vertical-align: middle;\n",
       "    }\n",
       "\n",
       "    .dataframe tbody tr th {\n",
       "        vertical-align: top;\n",
       "    }\n",
       "\n",
       "    .dataframe thead th {\n",
       "        text-align: right;\n",
       "    }\n",
       "</style>\n",
       "<table border=\"1\" class=\"dataframe\">\n",
       "  <thead>\n",
       "    <tr style=\"text-align: right;\">\n",
       "      <th></th>\n",
       "      <th>ID</th>\n",
       "      <th>Layers</th>\n",
       "      <th>Filename</th>\n",
       "    </tr>\n",
       "  </thead>\n",
       "  <tbody>\n",
       "    <tr>\n",
       "      <th>0</th>\n",
       "      <td>W1OP000001</td>\n",
       "      <td>title_yigchung</td>\n",
       "      <td>LEK-PHI-004</td>\n",
       "    </tr>\n",
       "    <tr>\n",
       "      <th>1</th>\n",
       "      <td>W1OP000002</td>\n",
       "      <td>title_yigchung_tsawa</td>\n",
       "      <td>BEN-LB-002</td>\n",
       "    </tr>\n",
       "    <tr>\n",
       "      <th>2</th>\n",
       "      <td>W1OP000003</td>\n",
       "      <td>title_quotes_yigchung_tsawa_sapche</td>\n",
       "      <td>BEN-LB-005</td>\n",
       "    </tr>\n",
       "    <tr>\n",
       "      <th>3</th>\n",
       "      <td>W1OP000004</td>\n",
       "      <td>title_quotes_yigchung_tsawa_sapche</td>\n",
       "      <td>BEN-LB-007</td>\n",
       "    </tr>\n",
       "    <tr>\n",
       "      <th>4</th>\n",
       "      <td>W1OP000005</td>\n",
       "      <td>title_yigchung_tsawa</td>\n",
       "      <td>BEN-LB-009</td>\n",
       "    </tr>\n",
       "  </tbody>\n",
       "</table>\n",
       "</div>"
      ],
      "text/plain": [
       "           ID                              Layers     Filename\n",
       "0  W1OP000001                      title_yigchung  LEK-PHI-004\n",
       "1  W1OP000002                title_yigchung_tsawa   BEN-LB-002\n",
       "2  W1OP000003  title_quotes_yigchung_tsawa_sapche   BEN-LB-005\n",
       "3  W1OP000004  title_quotes_yigchung_tsawa_sapche   BEN-LB-007\n",
       "4  W1OP000005                title_yigchung_tsawa   BEN-LB-009"
      ]
     },
     "execution_count": 30,
     "metadata": {},
     "output_type": "execute_result"
    }
   ],
   "source": [
    "layer_df.head()"
   ]
  },
  {
   "cell_type": "code",
   "execution_count": 31,
   "metadata": {},
   "outputs": [],
   "source": [
    "layer_df.to_csv('../data/layer.csv', index=False)"
   ]
  },
  {
   "cell_type": "code",
   "execution_count": 32,
   "metadata": {},
   "outputs": [
    {
     "data": {
      "text/html": [
       "<div>\n",
       "<style scoped>\n",
       "    .dataframe tbody tr th:only-of-type {\n",
       "        vertical-align: middle;\n",
       "    }\n",
       "\n",
       "    .dataframe tbody tr th {\n",
       "        vertical-align: top;\n",
       "    }\n",
       "\n",
       "    .dataframe thead th {\n",
       "        text-align: right;\n",
       "    }\n",
       "</style>\n",
       "<table border=\"1\" class=\"dataframe\">\n",
       "  <thead>\n",
       "    <tr style=\"text-align: right;\">\n",
       "      <th></th>\n",
       "      <th>ID</th>\n",
       "      <th>Layers</th>\n",
       "      <th>Filename</th>\n",
       "    </tr>\n",
       "  </thead>\n",
       "  <tbody>\n",
       "    <tr>\n",
       "      <th>0</th>\n",
       "      <td>W1OP000001</td>\n",
       "      <td>title_yigchung</td>\n",
       "      <td>LEK-PHI-004</td>\n",
       "    </tr>\n",
       "    <tr>\n",
       "      <th>1</th>\n",
       "      <td>W1OP000002</td>\n",
       "      <td>title_yigchung_tsawa</td>\n",
       "      <td>BEN-LB-002</td>\n",
       "    </tr>\n",
       "    <tr>\n",
       "      <th>2</th>\n",
       "      <td>W1OP000003</td>\n",
       "      <td>title_quotes_yigchung_tsawa_sapche</td>\n",
       "      <td>BEN-LB-005</td>\n",
       "    </tr>\n",
       "    <tr>\n",
       "      <th>3</th>\n",
       "      <td>W1OP000004</td>\n",
       "      <td>title_quotes_yigchung_tsawa_sapche</td>\n",
       "      <td>BEN-LB-007</td>\n",
       "    </tr>\n",
       "    <tr>\n",
       "      <th>4</th>\n",
       "      <td>W1OP000005</td>\n",
       "      <td>title_yigchung_tsawa</td>\n",
       "      <td>BEN-LB-009</td>\n",
       "    </tr>\n",
       "  </tbody>\n",
       "</table>\n",
       "</div>"
      ],
      "text/plain": [
       "           ID                              Layers     Filename\n",
       "0  W1OP000001                      title_yigchung  LEK-PHI-004\n",
       "1  W1OP000002                title_yigchung_tsawa   BEN-LB-002\n",
       "2  W1OP000003  title_quotes_yigchung_tsawa_sapche   BEN-LB-005\n",
       "3  W1OP000004  title_quotes_yigchung_tsawa_sapche   BEN-LB-007\n",
       "4  W1OP000005                title_yigchung_tsawa   BEN-LB-009"
      ]
     },
     "execution_count": 32,
     "metadata": {},
     "output_type": "execute_result"
    }
   ],
   "source": [
    "df = pd.read_csv('../data/layer.csv')\n",
    "df.head()"
   ]
  },
  {
   "cell_type": "code",
   "execution_count": null,
   "metadata": {},
   "outputs": [],
   "source": []
  }
 ],
 "metadata": {
  "kernelspec": {
   "display_name": "Python 3",
   "language": "python",
   "name": "python3"
  },
  "language_info": {
   "codemirror_mode": {
    "name": "ipython",
    "version": 3
   },
   "file_extension": ".py",
   "mimetype": "text/x-python",
   "name": "python",
   "nbconvert_exporter": "python",
   "pygments_lexer": "ipython3",
   "version": "3.6.7"
  }
 },
 "nbformat": 4,
 "nbformat_minor": 2
}
